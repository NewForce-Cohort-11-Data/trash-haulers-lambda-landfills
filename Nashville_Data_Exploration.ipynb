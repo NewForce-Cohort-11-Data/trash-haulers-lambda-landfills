{
 "cells": [
  {
   "cell_type": "markdown",
   "id": "9c88506b",
   "metadata": {},
   "source": [
    "# Nashville Trash Hauler Data Exploration\n",
    "\n",
    "This notebook explores service request data from hubNashville related to missed trash pickups. This is the initial data exploration and cleaning portion of the analysis.\n",
    "\n",
    "## Objectives:\n",
    "1. Load and explore the dataset\n",
    "2. Examine data structure and quality\n",
    "3. Identify missing values\n",
    "4. Filter for missed pickup records\n",
    "5. Clean and standardize the data\n",
    "6. Prepare data for further analysis"
   ]
  },
  {
   "cell_type": "markdown",
   "id": "f1cf5933",
   "metadata": {},
   "source": [
    "## 1. Import Required Libraries"
   ]
  },
  {
   "cell_type": "code",
   "execution_count": null,
   "id": "9d3a22a2",
   "metadata": {},
   "outputs": [
    {
     "name": "stdout",
     "output_type": "stream",
     "text": [
      "Libraries imported successfully!\n"
     ]
    }
   ],
   "source": [
    "# Import required libraries\n",
    "import pandas as pd\n",
    "import numpy as np\n",
    "import matplotlib.pyplot as plt\n",
    "import seaborn as sns\n",
    "from datetime import datetime\n",
    "import folium\n",
    "from folium.plugins import HeatMap\n",
    "import geopandas as gpd\n",
    "import contextily as ctx\n",
    "# / --- IGNORE ---\n",
    "\n",
    "# Configure display options\n",
    "pd.set_option('display.max_columns', None)\n",
    "pd.set_option('display.width', None)\n",
    "\n",
    "\n",
    "# Set plotting style\n",
    "plt.style.use('default')\n",
    "sns.set_palette(\"husl\")\n",
    "\n",
    "print(\"Libraries imported successfully!\")"
   ]
  },
  {
   "cell_type": "markdown",
   "id": "8d09b02d",
   "metadata": {},
   "source": [
    "## 2. Load and Explore the Dataset"
   ]
  },
  {
   "cell_type": "code",
   "execution_count": 84,
   "id": "16a51342",
   "metadata": {},
   "outputs": [
    {
     "name": "stdout",
     "output_type": "stream",
     "text": [
      "Dataset loaded successfully!\n",
      "Shape: (20226, 11)\n",
      "Columns: ['Request Number', 'Date Opened', 'Request ', 'Description', 'Incident Address', 'Zip Code', 'Trash Hauler', 'Trash Route', 'Council District', 'State Plan X', 'State Plan Y']\n"
     ]
    }
   ],
   "source": [
    "# Load the dataset\n",
    "file_path = 'trash_hauler_report.csv'\n",
    "df = pd.read_csv(file_path)\n",
    "\n",
    "print(f\"Dataset loaded successfully!\")\n",
    "print(f\"Shape: {df.shape}\")\n",
    "print(f\"Columns: {list(df.columns)}\")"
   ]
  },
  {
   "cell_type": "code",
   "execution_count": 85,
   "id": "b7eee755",
   "metadata": {},
   "outputs": [
    {
     "name": "stdout",
     "output_type": "stream",
     "text": [
      "First 5 rows:\n"
     ]
    },
    {
     "data": {
      "application/vnd.microsoft.datawrangler.viewer.v0+json": {
       "columns": [
        {
         "name": "index",
         "rawType": "int64",
         "type": "integer"
        },
        {
         "name": "Request Number",
         "rawType": "int64",
         "type": "integer"
        },
        {
         "name": "Date Opened",
         "rawType": "object",
         "type": "string"
        },
        {
         "name": "Request ",
         "rawType": "object",
         "type": "string"
        },
        {
         "name": "Description",
         "rawType": "object",
         "type": "string"
        },
        {
         "name": "Incident Address",
         "rawType": "object",
         "type": "string"
        },
        {
         "name": "Zip Code",
         "rawType": "float64",
         "type": "float"
        },
        {
         "name": "Trash Hauler",
         "rawType": "object",
         "type": "string"
        },
        {
         "name": "Trash Route",
         "rawType": "object",
         "type": "string"
        },
        {
         "name": "Council District",
         "rawType": "float64",
         "type": "float"
        },
        {
         "name": "State Plan X",
         "rawType": "float64",
         "type": "float"
        },
        {
         "name": "State Plan Y",
         "rawType": "float64",
         "type": "float"
        }
       ],
       "ref": "9e2ae876-7815-43da-9116-9962a0029d83",
       "rows": [
        [
         "0",
         "25270",
         "11/01/17",
         "Trash - Backdoor",
         "house with the wheel chair ramp, they share driveway, in back driveway. 3817 Crouch Dr near NES light post is. \r\n615-876-6274",
         "3817 Crouch Dr",
         "37207.0",
         "RED RIVER",
         "3205",
         "2.0",
         "1727970.41206786",
         "686779.478088711"
        ],
        [
         "1",
         "25274",
         "11/01/17",
         "Trash - Curbside/Alley Missed Pickup",
         "Curb/Trash miss Tuesday.",
         "4028 Clarksville Pike",
         "37218.0",
         "RED RIVER",
         "4202",
         "1.0",
         "1721259.36568104",
         "685444.799565154"
        ],
        [
         "2",
         "25276",
         "11/01/17",
         "Trash - Curbside/Alley Missed Pickup",
         "Curb/trash miss Tuesday.",
         "6528 Thunderbird Dr",
         "37209.0",
         "RED RIVER",
         "4205",
         "20.0",
         "1707026.75348931",
         "659887.471571312"
        ],
        [
         "3",
         "25307",
         "11/01/17",
         "Trash - Curbside/Alley Missed Pickup",
         "missed",
         "2603 old matthews rd",
         "37207.0",
         "WASTE IND",
         "2206",
         "2.0",
         "1735691.77097349",
         "685027.245922773"
        ],
        [
         "4",
         "25312",
         "11/01/17",
         "Trash - Curbside/Alley Missed Pickup",
         "Missed the even side of the road.",
         "604 croley dr",
         "37209.0",
         "RED RIVER",
         "4203",
         "20.0",
         "1710185.77229504",
         "664205.101065545"
        ]
       ],
       "shape": {
        "columns": 11,
        "rows": 5
       }
      },
      "text/html": [
       "<div>\n",
       "<style scoped>\n",
       "    .dataframe tbody tr th:only-of-type {\n",
       "        vertical-align: middle;\n",
       "    }\n",
       "\n",
       "    .dataframe tbody tr th {\n",
       "        vertical-align: top;\n",
       "    }\n",
       "\n",
       "    .dataframe thead th {\n",
       "        text-align: right;\n",
       "    }\n",
       "</style>\n",
       "<table border=\"1\" class=\"dataframe\">\n",
       "  <thead>\n",
       "    <tr style=\"text-align: right;\">\n",
       "      <th></th>\n",
       "      <th>Request Number</th>\n",
       "      <th>Date Opened</th>\n",
       "      <th>Request</th>\n",
       "      <th>Description</th>\n",
       "      <th>Incident Address</th>\n",
       "      <th>Zip Code</th>\n",
       "      <th>Trash Hauler</th>\n",
       "      <th>Trash Route</th>\n",
       "      <th>Council District</th>\n",
       "      <th>State Plan X</th>\n",
       "      <th>State Plan Y</th>\n",
       "    </tr>\n",
       "  </thead>\n",
       "  <tbody>\n",
       "    <tr>\n",
       "      <th>0</th>\n",
       "      <td>25270</td>\n",
       "      <td>11/01/17</td>\n",
       "      <td>Trash - Backdoor</td>\n",
       "      <td>house with the wheel chair ramp, they share dr...</td>\n",
       "      <td>3817 Crouch Dr</td>\n",
       "      <td>37207.0</td>\n",
       "      <td>RED RIVER</td>\n",
       "      <td>3205</td>\n",
       "      <td>2.0</td>\n",
       "      <td>1.727970e+06</td>\n",
       "      <td>686779.478089</td>\n",
       "    </tr>\n",
       "    <tr>\n",
       "      <th>1</th>\n",
       "      <td>25274</td>\n",
       "      <td>11/01/17</td>\n",
       "      <td>Trash - Curbside/Alley Missed Pickup</td>\n",
       "      <td>Curb/Trash miss Tuesday.</td>\n",
       "      <td>4028 Clarksville Pike</td>\n",
       "      <td>37218.0</td>\n",
       "      <td>RED RIVER</td>\n",
       "      <td>4202</td>\n",
       "      <td>1.0</td>\n",
       "      <td>1.721259e+06</td>\n",
       "      <td>685444.799565</td>\n",
       "    </tr>\n",
       "    <tr>\n",
       "      <th>2</th>\n",
       "      <td>25276</td>\n",
       "      <td>11/01/17</td>\n",
       "      <td>Trash - Curbside/Alley Missed Pickup</td>\n",
       "      <td>Curb/trash miss Tuesday.</td>\n",
       "      <td>6528 Thunderbird Dr</td>\n",
       "      <td>37209.0</td>\n",
       "      <td>RED RIVER</td>\n",
       "      <td>4205</td>\n",
       "      <td>20.0</td>\n",
       "      <td>1.707027e+06</td>\n",
       "      <td>659887.471571</td>\n",
       "    </tr>\n",
       "    <tr>\n",
       "      <th>3</th>\n",
       "      <td>25307</td>\n",
       "      <td>11/01/17</td>\n",
       "      <td>Trash - Curbside/Alley Missed Pickup</td>\n",
       "      <td>missed</td>\n",
       "      <td>2603 old matthews rd</td>\n",
       "      <td>37207.0</td>\n",
       "      <td>WASTE IND</td>\n",
       "      <td>2206</td>\n",
       "      <td>2.0</td>\n",
       "      <td>1.735692e+06</td>\n",
       "      <td>685027.245923</td>\n",
       "    </tr>\n",
       "    <tr>\n",
       "      <th>4</th>\n",
       "      <td>25312</td>\n",
       "      <td>11/01/17</td>\n",
       "      <td>Trash - Curbside/Alley Missed Pickup</td>\n",
       "      <td>Missed the even side of the road.</td>\n",
       "      <td>604 croley dr</td>\n",
       "      <td>37209.0</td>\n",
       "      <td>RED RIVER</td>\n",
       "      <td>4203</td>\n",
       "      <td>20.0</td>\n",
       "      <td>1.710186e+06</td>\n",
       "      <td>664205.101066</td>\n",
       "    </tr>\n",
       "  </tbody>\n",
       "</table>\n",
       "</div>"
      ],
      "text/plain": [
       "   Request Number Date Opened                              Request   \\\n",
       "0           25270    11/01/17                      Trash - Backdoor   \n",
       "1           25274    11/01/17  Trash - Curbside/Alley Missed Pickup   \n",
       "2           25276    11/01/17  Trash - Curbside/Alley Missed Pickup   \n",
       "3           25307    11/01/17  Trash - Curbside/Alley Missed Pickup   \n",
       "4           25312    11/01/17  Trash - Curbside/Alley Missed Pickup   \n",
       "\n",
       "                                         Description       Incident Address  \\\n",
       "0  house with the wheel chair ramp, they share dr...         3817 Crouch Dr   \n",
       "1                           Curb/Trash miss Tuesday.  4028 Clarksville Pike   \n",
       "2                           Curb/trash miss Tuesday.    6528 Thunderbird Dr   \n",
       "3                                             missed   2603 old matthews rd   \n",
       "4                  Missed the even side of the road.          604 croley dr   \n",
       "\n",
       "   Zip Code Trash Hauler Trash Route  Council District  State Plan X  \\\n",
       "0   37207.0    RED RIVER        3205               2.0  1.727970e+06   \n",
       "1   37218.0    RED RIVER        4202               1.0  1.721259e+06   \n",
       "2   37209.0    RED RIVER        4205              20.0  1.707027e+06   \n",
       "3   37207.0    WASTE IND        2206               2.0  1.735692e+06   \n",
       "4   37209.0    RED RIVER        4203              20.0  1.710186e+06   \n",
       "\n",
       "    State Plan Y  \n",
       "0  686779.478089  \n",
       "1  685444.799565  \n",
       "2  659887.471571  \n",
       "3  685027.245923  \n",
       "4  664205.101066  "
      ]
     },
     "execution_count": 85,
     "metadata": {},
     "output_type": "execute_result"
    }
   ],
   "source": [
    "# Display first few rows\n",
    "print(\"First 5 rows:\")\n",
    "df.head()"
   ]
  },
  {
   "cell_type": "code",
   "execution_count": 86,
   "id": "15368e46",
   "metadata": {},
   "outputs": [
    {
     "name": "stdout",
     "output_type": "stream",
     "text": [
      "Last 5 rows:\n"
     ]
    },
    {
     "data": {
      "application/vnd.microsoft.datawrangler.viewer.v0+json": {
       "columns": [
        {
         "name": "index",
         "rawType": "int64",
         "type": "integer"
        },
        {
         "name": "Request Number",
         "rawType": "int64",
         "type": "integer"
        },
        {
         "name": "Date Opened",
         "rawType": "object",
         "type": "string"
        },
        {
         "name": "Request ",
         "rawType": "object",
         "type": "string"
        },
        {
         "name": "Description",
         "rawType": "object",
         "type": "string"
        },
        {
         "name": "Incident Address",
         "rawType": "object",
         "type": "string"
        },
        {
         "name": "Zip Code",
         "rawType": "float64",
         "type": "float"
        },
        {
         "name": "Trash Hauler",
         "rawType": "object",
         "type": "string"
        },
        {
         "name": "Trash Route",
         "rawType": "object",
         "type": "string"
        },
        {
         "name": "Council District",
         "rawType": "float64",
         "type": "float"
        },
        {
         "name": "State Plan X",
         "rawType": "float64",
         "type": "float"
        },
        {
         "name": "State Plan Y",
         "rawType": "float64",
         "type": "float"
        }
       ],
       "ref": "878295a3-b899-4085-9139-f5433ab65b8b",
       "rows": [
        [
         "20221",
         "267125",
         "11/01/19",
         "Trash - Curbside/Alley Missed Pickup",
         "MISSED...NEIGHBORS MISSED",
         "2731 Murfreesboro Pike",
         "37013.0",
         "RED RIVER",
         "4502",
         "32.0",
         "1781137.26293528",
         "632448.551143857"
        ],
        [
         "20222",
         "267126",
         "11/01/19",
         "Trash - Curbside/Alley Missed Pickup",
         "entire alley",
         "1621 Long Ave, Nashville, TN 37206, United States",
         "37206.0",
         "METRO",
         "9508",
         "6.0",
         "1749711.39882271",
         "669201.601569129"
        ],
        [
         "20223",
         "267130",
         "11/01/19",
         "Trash - Curbside/Alley Missed Pickup",
         "missed several",
         "2943 Windemere Cir, Nashville, TN 37214, United States",
         "37214.0",
         "RED RIVER",
         "1502",
         "15.0",
         "1770293.38813099",
         "674936.303809043"
        ],
        [
         "20224",
         "267134",
         "11/01/19",
         "Trash - Curbside/Alley Missed Pickup",
         "Caller stated trash was missed & were only picked up 3x in the last 3 month.",
         "3325 Murfreesboro Pike, Nashville, TN 37013, United States",
         "37013.0",
         "RED RIVER",
         "4502",
         "32.0",
         "1785224.99799806",
         "627146.400187231"
        ],
        [
         "20225",
         "267137",
         "11/01/19",
         "Trash - Curbside/Alley Missed Pickup",
         "possibly others missed as well",
         "604 Somerset Ct, Nashville, TN 37217, United States",
         "37217.0",
         "RED RIVER",
         "2505",
         "29.0",
         "1781360.32310215",
         "637742.006845765"
        ]
       ],
       "shape": {
        "columns": 11,
        "rows": 5
       }
      },
      "text/html": [
       "<div>\n",
       "<style scoped>\n",
       "    .dataframe tbody tr th:only-of-type {\n",
       "        vertical-align: middle;\n",
       "    }\n",
       "\n",
       "    .dataframe tbody tr th {\n",
       "        vertical-align: top;\n",
       "    }\n",
       "\n",
       "    .dataframe thead th {\n",
       "        text-align: right;\n",
       "    }\n",
       "</style>\n",
       "<table border=\"1\" class=\"dataframe\">\n",
       "  <thead>\n",
       "    <tr style=\"text-align: right;\">\n",
       "      <th></th>\n",
       "      <th>Request Number</th>\n",
       "      <th>Date Opened</th>\n",
       "      <th>Request</th>\n",
       "      <th>Description</th>\n",
       "      <th>Incident Address</th>\n",
       "      <th>Zip Code</th>\n",
       "      <th>Trash Hauler</th>\n",
       "      <th>Trash Route</th>\n",
       "      <th>Council District</th>\n",
       "      <th>State Plan X</th>\n",
       "      <th>State Plan Y</th>\n",
       "    </tr>\n",
       "  </thead>\n",
       "  <tbody>\n",
       "    <tr>\n",
       "      <th>20221</th>\n",
       "      <td>267125</td>\n",
       "      <td>11/01/19</td>\n",
       "      <td>Trash - Curbside/Alley Missed Pickup</td>\n",
       "      <td>MISSED...NEIGHBORS MISSED</td>\n",
       "      <td>2731 Murfreesboro Pike</td>\n",
       "      <td>37013.0</td>\n",
       "      <td>RED RIVER</td>\n",
       "      <td>4502</td>\n",
       "      <td>32.0</td>\n",
       "      <td>1.781137e+06</td>\n",
       "      <td>632448.551144</td>\n",
       "    </tr>\n",
       "    <tr>\n",
       "      <th>20222</th>\n",
       "      <td>267126</td>\n",
       "      <td>11/01/19</td>\n",
       "      <td>Trash - Curbside/Alley Missed Pickup</td>\n",
       "      <td>entire alley</td>\n",
       "      <td>1621 Long Ave, Nashville, TN 37206, United States</td>\n",
       "      <td>37206.0</td>\n",
       "      <td>METRO</td>\n",
       "      <td>9508</td>\n",
       "      <td>6.0</td>\n",
       "      <td>1.749711e+06</td>\n",
       "      <td>669201.601569</td>\n",
       "    </tr>\n",
       "    <tr>\n",
       "      <th>20223</th>\n",
       "      <td>267130</td>\n",
       "      <td>11/01/19</td>\n",
       "      <td>Trash - Curbside/Alley Missed Pickup</td>\n",
       "      <td>missed several</td>\n",
       "      <td>2943 Windemere Cir, Nashville, TN 37214, Unite...</td>\n",
       "      <td>37214.0</td>\n",
       "      <td>RED RIVER</td>\n",
       "      <td>1502</td>\n",
       "      <td>15.0</td>\n",
       "      <td>1.770293e+06</td>\n",
       "      <td>674936.303809</td>\n",
       "    </tr>\n",
       "    <tr>\n",
       "      <th>20224</th>\n",
       "      <td>267134</td>\n",
       "      <td>11/01/19</td>\n",
       "      <td>Trash - Curbside/Alley Missed Pickup</td>\n",
       "      <td>Caller stated trash was missed &amp; were only pic...</td>\n",
       "      <td>3325 Murfreesboro Pike, Nashville, TN 37013, U...</td>\n",
       "      <td>37013.0</td>\n",
       "      <td>RED RIVER</td>\n",
       "      <td>4502</td>\n",
       "      <td>32.0</td>\n",
       "      <td>1.785225e+06</td>\n",
       "      <td>627146.400187</td>\n",
       "    </tr>\n",
       "    <tr>\n",
       "      <th>20225</th>\n",
       "      <td>267137</td>\n",
       "      <td>11/01/19</td>\n",
       "      <td>Trash - Curbside/Alley Missed Pickup</td>\n",
       "      <td>possibly others missed as well</td>\n",
       "      <td>604 Somerset Ct, Nashville, TN 37217, United S...</td>\n",
       "      <td>37217.0</td>\n",
       "      <td>RED RIVER</td>\n",
       "      <td>2505</td>\n",
       "      <td>29.0</td>\n",
       "      <td>1.781360e+06</td>\n",
       "      <td>637742.006846</td>\n",
       "    </tr>\n",
       "  </tbody>\n",
       "</table>\n",
       "</div>"
      ],
      "text/plain": [
       "       Request Number Date Opened                              Request   \\\n",
       "20221          267125    11/01/19  Trash - Curbside/Alley Missed Pickup   \n",
       "20222          267126    11/01/19  Trash - Curbside/Alley Missed Pickup   \n",
       "20223          267130    11/01/19  Trash - Curbside/Alley Missed Pickup   \n",
       "20224          267134    11/01/19  Trash - Curbside/Alley Missed Pickup   \n",
       "20225          267137    11/01/19  Trash - Curbside/Alley Missed Pickup   \n",
       "\n",
       "                                             Description  \\\n",
       "20221                          MISSED...NEIGHBORS MISSED   \n",
       "20222                                       entire alley   \n",
       "20223                                     missed several   \n",
       "20224  Caller stated trash was missed & were only pic...   \n",
       "20225                     possibly others missed as well   \n",
       "\n",
       "                                        Incident Address  Zip Code  \\\n",
       "20221                             2731 Murfreesboro Pike   37013.0   \n",
       "20222  1621 Long Ave, Nashville, TN 37206, United States   37206.0   \n",
       "20223  2943 Windemere Cir, Nashville, TN 37214, Unite...   37214.0   \n",
       "20224  3325 Murfreesboro Pike, Nashville, TN 37013, U...   37013.0   \n",
       "20225  604 Somerset Ct, Nashville, TN 37217, United S...   37217.0   \n",
       "\n",
       "      Trash Hauler Trash Route  Council District  State Plan X   State Plan Y  \n",
       "20221    RED RIVER        4502              32.0  1.781137e+06  632448.551144  \n",
       "20222        METRO        9508               6.0  1.749711e+06  669201.601569  \n",
       "20223    RED RIVER        1502              15.0  1.770293e+06  674936.303809  \n",
       "20224    RED RIVER        4502              32.0  1.785225e+06  627146.400187  \n",
       "20225    RED RIVER        2505              29.0  1.781360e+06  637742.006846  "
      ]
     },
     "execution_count": 86,
     "metadata": {},
     "output_type": "execute_result"
    }
   ],
   "source": [
    "# Display last few rows\n",
    "print(\"Last 5 rows:\")\n",
    "df.tail()"
   ]
  },
  {
   "cell_type": "markdown",
   "id": "24dd4dd2",
   "metadata": {},
   "source": [
    "## 3. Examine Data Structure and Types"
   ]
  },
  {
   "cell_type": "code",
   "execution_count": 87,
   "id": "d70f420a",
   "metadata": {},
   "outputs": [
    {
     "name": "stdout",
     "output_type": "stream",
     "text": [
      "Dataset Info:\n",
      "<class 'pandas.core.frame.DataFrame'>\n",
      "RangeIndex: 20226 entries, 0 to 20225\n",
      "Data columns (total 11 columns):\n",
      " #   Column            Non-Null Count  Dtype  \n",
      "---  ------            --------------  -----  \n",
      " 0   Request Number    20226 non-null  int64  \n",
      " 1   Date Opened       20226 non-null  object \n",
      " 2   Request           20226 non-null  object \n",
      " 3   Description       20195 non-null  object \n",
      " 4   Incident Address  20217 non-null  object \n",
      " 5   Zip Code          20151 non-null  float64\n",
      " 6   Trash Hauler      19325 non-null  object \n",
      " 7   Trash Route       19279 non-null  object \n",
      " 8   Council District  20177 non-null  float64\n",
      " 9   State Plan X      20198 non-null  float64\n",
      " 10  State Plan Y      20198 non-null  float64\n",
      "dtypes: float64(4), int64(1), object(6)\n",
      "memory usage: 1.7+ MB\n",
      "\n",
      "==================================================\n",
      "\n",
      "Data Types:\n",
      "Request Number        int64\n",
      "Date Opened          object\n",
      "Request              object\n",
      "Description          object\n",
      "Incident Address     object\n",
      "Zip Code            float64\n",
      "Trash Hauler         object\n",
      "Trash Route          object\n",
      "Council District    float64\n",
      "State Plan X        float64\n",
      "State Plan Y        float64\n",
      "dtype: object\n"
     ]
    }
   ],
   "source": [
    "# Basic information about the dataset\n",
    "print(\"Dataset Info:\")\n",
    "df.info()\n",
    "print(\"\\n\" + \"=\"*50)\n",
    "print(\"\\nData Types:\")\n",
    "print(df.dtypes)"
   ]
  },
  {
   "cell_type": "code",
   "execution_count": 88,
   "id": "8793169a",
   "metadata": {},
   "outputs": [
    {
     "name": "stdout",
     "output_type": "stream",
     "text": [
      "Basic Statistics:\n"
     ]
    },
    {
     "data": {
      "application/vnd.microsoft.datawrangler.viewer.v0+json": {
       "columns": [
        {
         "name": "index",
         "rawType": "object",
         "type": "string"
        },
        {
         "name": "Request Number",
         "rawType": "float64",
         "type": "float"
        },
        {
         "name": "Zip Code",
         "rawType": "float64",
         "type": "float"
        },
        {
         "name": "Council District",
         "rawType": "float64",
         "type": "float"
        },
        {
         "name": "State Plan X",
         "rawType": "float64",
         "type": "float"
        },
        {
         "name": "State Plan Y",
         "rawType": "float64",
         "type": "float"
        }
       ],
       "ref": "2635255e-cefc-4279-a6aa-24d1b5dd3ad9",
       "rows": [
        [
         "count",
         "20226.0",
         "20151.0",
         "20177.0",
         "20198.0",
         "20198.0"
        ],
        [
         "mean",
         "149178.98635419758",
         "37180.62180536946",
         "18.079099965307034",
         "1763012.360472116",
         "659506.8803917593"
        ],
        [
         "std",
         "71837.30688853319",
         "66.31091919063104",
         "9.917632019982634",
         "775495.113582696",
         "43554.05392390544"
        ],
        [
         "min",
         "25270.0",
         "37013.0",
         "1.0",
         "1663490.16349178",
         "-271910.580732543"
        ],
        [
         "25%",
         "86052.75",
         "37205.0",
         "8.0",
         "1727831.40156896",
         "640654.1689222013"
        ],
        [
         "50%",
         "145223.5",
         "37209.0",
         "19.0",
         "1745845.219081245",
         "656485.7654743395"
        ],
        [
         "75%",
         "217162.75",
         "37214.0",
         "26.0",
         "1759491.19516678",
         "675673.63929362"
        ],
        [
         "max",
         "267137.0",
         "37228.0",
         "35.0",
         "34968915.8446049",
         "2204381.7622745"
        ]
       ],
       "shape": {
        "columns": 5,
        "rows": 8
       }
      },
      "text/html": [
       "<div>\n",
       "<style scoped>\n",
       "    .dataframe tbody tr th:only-of-type {\n",
       "        vertical-align: middle;\n",
       "    }\n",
       "\n",
       "    .dataframe tbody tr th {\n",
       "        vertical-align: top;\n",
       "    }\n",
       "\n",
       "    .dataframe thead th {\n",
       "        text-align: right;\n",
       "    }\n",
       "</style>\n",
       "<table border=\"1\" class=\"dataframe\">\n",
       "  <thead>\n",
       "    <tr style=\"text-align: right;\">\n",
       "      <th></th>\n",
       "      <th>Request Number</th>\n",
       "      <th>Zip Code</th>\n",
       "      <th>Council District</th>\n",
       "      <th>State Plan X</th>\n",
       "      <th>State Plan Y</th>\n",
       "    </tr>\n",
       "  </thead>\n",
       "  <tbody>\n",
       "    <tr>\n",
       "      <th>count</th>\n",
       "      <td>20226.000000</td>\n",
       "      <td>20151.000000</td>\n",
       "      <td>20177.000000</td>\n",
       "      <td>2.019800e+04</td>\n",
       "      <td>2.019800e+04</td>\n",
       "    </tr>\n",
       "    <tr>\n",
       "      <th>mean</th>\n",
       "      <td>149178.986354</td>\n",
       "      <td>37180.621805</td>\n",
       "      <td>18.079100</td>\n",
       "      <td>1.763012e+06</td>\n",
       "      <td>6.595069e+05</td>\n",
       "    </tr>\n",
       "    <tr>\n",
       "      <th>std</th>\n",
       "      <td>71837.306889</td>\n",
       "      <td>66.310919</td>\n",
       "      <td>9.917632</td>\n",
       "      <td>7.754951e+05</td>\n",
       "      <td>4.355405e+04</td>\n",
       "    </tr>\n",
       "    <tr>\n",
       "      <th>min</th>\n",
       "      <td>25270.000000</td>\n",
       "      <td>37013.000000</td>\n",
       "      <td>1.000000</td>\n",
       "      <td>1.663490e+06</td>\n",
       "      <td>-2.719106e+05</td>\n",
       "    </tr>\n",
       "    <tr>\n",
       "      <th>25%</th>\n",
       "      <td>86052.750000</td>\n",
       "      <td>37205.000000</td>\n",
       "      <td>8.000000</td>\n",
       "      <td>1.727831e+06</td>\n",
       "      <td>6.406542e+05</td>\n",
       "    </tr>\n",
       "    <tr>\n",
       "      <th>50%</th>\n",
       "      <td>145223.500000</td>\n",
       "      <td>37209.000000</td>\n",
       "      <td>19.000000</td>\n",
       "      <td>1.745845e+06</td>\n",
       "      <td>6.564858e+05</td>\n",
       "    </tr>\n",
       "    <tr>\n",
       "      <th>75%</th>\n",
       "      <td>217162.750000</td>\n",
       "      <td>37214.000000</td>\n",
       "      <td>26.000000</td>\n",
       "      <td>1.759491e+06</td>\n",
       "      <td>6.756736e+05</td>\n",
       "    </tr>\n",
       "    <tr>\n",
       "      <th>max</th>\n",
       "      <td>267137.000000</td>\n",
       "      <td>37228.000000</td>\n",
       "      <td>35.000000</td>\n",
       "      <td>3.496892e+07</td>\n",
       "      <td>2.204382e+06</td>\n",
       "    </tr>\n",
       "  </tbody>\n",
       "</table>\n",
       "</div>"
      ],
      "text/plain": [
       "       Request Number      Zip Code  Council District  State Plan X  \\\n",
       "count    20226.000000  20151.000000      20177.000000  2.019800e+04   \n",
       "mean    149178.986354  37180.621805         18.079100  1.763012e+06   \n",
       "std      71837.306889     66.310919          9.917632  7.754951e+05   \n",
       "min      25270.000000  37013.000000          1.000000  1.663490e+06   \n",
       "25%      86052.750000  37205.000000          8.000000  1.727831e+06   \n",
       "50%     145223.500000  37209.000000         19.000000  1.745845e+06   \n",
       "75%     217162.750000  37214.000000         26.000000  1.759491e+06   \n",
       "max     267137.000000  37228.000000         35.000000  3.496892e+07   \n",
       "\n",
       "       State Plan Y  \n",
       "count  2.019800e+04  \n",
       "mean   6.595069e+05  \n",
       "std    4.355405e+04  \n",
       "min   -2.719106e+05  \n",
       "25%    6.406542e+05  \n",
       "50%    6.564858e+05  \n",
       "75%    6.756736e+05  \n",
       "max    2.204382e+06  "
      ]
     },
     "execution_count": 88,
     "metadata": {},
     "output_type": "execute_result"
    }
   ],
   "source": [
    "# Basic statistics for numerical columns\n",
    "print(\"Basic Statistics:\")\n",
    "df.describe()"
   ]
  },
  {
   "cell_type": "code",
   "execution_count": 89,
   "id": "e0bace64",
   "metadata": {},
   "outputs": [
    {
     "name": "stdout",
     "output_type": "stream",
     "text": [
      "\n",
      "Unique values in 'Request ':\n",
      "Request \n",
      "Trash - Curbside/Alley Missed Pickup    15028\n",
      "Trash - Backdoor                         2629\n",
      "Trash Collection Complaint               2312\n",
      "Damage to Property                        257\n",
      "Name: count, dtype: int64\n",
      "Total unique values: 4\n",
      "----------------------------------------\n",
      "\n",
      "Unique values in 'Trash Hauler':\n",
      "Trash Hauler\n",
      "RED RIVER    14395\n",
      "METRO         3512\n",
      "WASTE IND     1350\n",
      "NaN            901\n",
      "Metro           68\n",
      "Name: count, dtype: int64\n",
      "Total unique values: 4\n",
      "----------------------------------------\n",
      "\n",
      "Unique values in 'Council District':\n",
      "Council District\n",
      "25.0    1236\n",
      "21.0    1080\n",
      "23.0    1073\n",
      "2.0      986\n",
      "16.0     985\n",
      "8.0      976\n",
      "15.0     916\n",
      "5.0      854\n",
      "7.0      834\n",
      "6.0      820\n",
      "24.0     766\n",
      "29.0     760\n",
      "20.0     706\n",
      "33.0     699\n",
      "1.0      674\n",
      "17.0     662\n",
      "34.0     634\n",
      "19.0     582\n",
      "26.0     571\n",
      "30.0     568\n",
      "27.0     541\n",
      "18.0     528\n",
      "32.0     500\n",
      "28.0     472\n",
      "9.0      458\n",
      "31.0     429\n",
      "4.0      305\n",
      "14.0     181\n",
      "3.0      171\n",
      "13.0     152\n",
      "NaN       49\n",
      "22.0      43\n",
      "11.0       6\n",
      "12.0       4\n",
      "35.0       3\n",
      "10.0       2\n",
      "Name: count, dtype: int64\n",
      "Total unique values: 35\n",
      "----------------------------------------\n"
     ]
    }
   ],
   "source": [
    "# Examine unique values in key categorical columns\n",
    "categorical_cols = ['Request ', 'Trash Hauler', 'Council District']\n",
    "\n",
    "for col in categorical_cols:\n",
    "    if col in df.columns:\n",
    "        print(f\"\\nUnique values in '{col}':\")\n",
    "        value_counts = df[col].value_counts(dropna=False)\n",
    "        print(value_counts)\n",
    "        print(f\"Total unique values: {df[col].nunique()}\")\n",
    "        print(\"-\" * 40)"
   ]
  },
  {
   "cell_type": "markdown",
   "id": "c80c05f7",
   "metadata": {},
   "source": [
    "## 4. Identify Missing Values"
   ]
  },
  {
   "cell_type": "code",
   "execution_count": 90,
   "id": "7ddc47ac",
   "metadata": {},
   "outputs": [
    {
     "name": "stdout",
     "output_type": "stream",
     "text": [
      "Missing Values Summary:\n",
      "                  Missing Count  Missing Percentage\n",
      "Description                  31            0.153268\n",
      "Incident Address              9            0.044497\n",
      "Zip Code                     75            0.370810\n",
      "Trash Hauler                901            4.454662\n",
      "Trash Route                 947            4.682092\n",
      "Council District             49            0.242262\n",
      "State Plan X                 28            0.138436\n",
      "State Plan Y                 28            0.138436\n"
     ]
    }
   ],
   "source": [
    "# Check for missing values\n",
    "print(\"Missing Values Summary:\")\n",
    "missing_data = df.isnull().sum()\n",
    "missing_percent = (missing_data / len(df)) * 100\n",
    "\n",
    "missing_summary = pd.DataFrame({\n",
    "    'Missing Count': missing_data,\n",
    "    'Missing Percentage': missing_percent\n",
    "})\n",
    "\n",
    "print(missing_summary[missing_summary['Missing Count'] > 0])"
   ]
  },
  {
   "cell_type": "code",
   "execution_count": 91,
   "id": "f86bbb42",
   "metadata": {},
   "outputs": [
    {
     "name": "stdout",
     "output_type": "stream",
     "text": [
      "Empty Strings and Whitespace Check:\n"
     ]
    }
   ],
   "source": [
    "# Check for empty strings and whitespace-only values\n",
    "print(\"Empty Strings and Whitespace Check:\")\n",
    "for col in df.columns:\n",
    "    if df[col].dtype == 'object':\n",
    "        empty_strings = (df[col] == '').sum()\n",
    "        whitespace_only = df[col].str.strip().eq('').sum() if df[col].dtype == 'object' else 0\n",
    "        if empty_strings > 0 or whitespace_only > 0:\n",
    "            print(f\"{col}: {empty_strings} empty strings, {whitespace_only} whitespace-only\")"
   ]
  },
  {
   "cell_type": "markdown",
   "id": "5b1f1651",
   "metadata": {},
   "source": [
    "## 5. Filter for Missed Pickup Records"
   ]
  },
  {
   "cell_type": "code",
   "execution_count": 92,
   "id": "6d4df253",
   "metadata": {},
   "outputs": [
    {
     "name": "stdout",
     "output_type": "stream",
     "text": [
      "All unique request types:\n",
      "Trash - Curbside/Alley Missed Pickup: 15028\n",
      "Trash - Backdoor: 2629\n",
      "Trash Collection Complaint: 2312\n",
      "Damage to Property: 257\n"
     ]
    }
   ],
   "source": [
    "# Examine the 'Request ' column more closely to identify missed pickup patterns\n",
    "print(\"All unique request types:\")\n",
    "request_types = df['Request '].value_counts()\n",
    "for request_type, count in request_types.items():\n",
    "    print(f\"{request_type}: {count}\")"
   ]
  },
  {
   "cell_type": "markdown",
   "id": "dc4c290a",
   "metadata": {},
   "source": [
    "## 6. Data Cleaning and Preprocessing\n",
    "\n",
    "**GOALS:**\n",
    "1. Standardize column names for easier handling\n",
    "2. Convert date columns to proper datetime format\n",
    "3. Handle any data quality issues"
   ]
  },
  {
   "cell_type": "code",
   "execution_count": 93,
   "id": "7e39c9e7",
   "metadata": {},
   "outputs": [
    {
     "name": "stdout",
     "output_type": "stream",
     "text": [
      "Column names cleaned and 'missed_pickup_mask' created.\n",
      "Number of records initially identified as 'Missed Pickup': 15028\n"
     ]
    }
   ],
   "source": [
    "# Standardize column names by stripping whitespace and replacing spaces with underscores\n",
    "df.columns = df.columns.str.strip().str.replace(' ', '_')\n",
    "\n",
    "# Define the filter for 'Missed Pickup' requests\n",
    "missed_pickup_mask = df['Request'].str.contains('Missed Pickup', case=False, na=False)\n",
    "\n",
    "print(\"Column names cleaned and 'missed_pickup_mask' created.\")\n",
    "print(f\"Number of records initially identified as 'Missed Pickup': {missed_pickup_mask.sum()}\")"
   ]
  },
  {
   "cell_type": "code",
   "execution_count": 94,
   "id": "f494da50",
   "metadata": {},
   "outputs": [
    {
     "name": "stdout",
     "output_type": "stream",
     "text": [
      "Records with 'missed' or 'miss' in description: 13030\n",
      "Overlap between request type and description filters: 10319\n",
      "Records with 'missed' in description but not 'Missed Pickup' in request type: 2711\n",
      "\n",
      "Sample of description-only missed records:\n",
      "                       Request  \\\n",
      "7   Trash Collection Complaint   \n",
      "11  Trash Collection Complaint   \n",
      "17  Trash Collection Complaint   \n",
      "27  Trash Collection Complaint   \n",
      "35  Trash Collection Complaint   \n",
      "\n",
      "                                          Description  \n",
      "7        Trash out on time, miss again Tuesday. ALLEY  \n",
      "11                         Missed- 4th week in a row.  \n",
      "17  Curb/Trash miss everyone already gotten pick u...  \n",
      "27  missed. Neighbor missed as well-say she is at ...  \n",
      "35  Missed my trash AGAIN.\\r\\ncheck your records. ...  \n"
     ]
    }
   ],
   "source": [
    "#Let's also check descriptions for missed pickup keywords\n",
    "# to ensure we're not missing any records \n",
    "description_missed_mask = df['Description'].str.contains(\n",
    "    'missed|miss', case=False, na=False\n",
    ")\n",
    "\n",
    "print(f\"Records with 'missed' or 'miss' in description: {description_missed_mask.sum()}\")\n",
    "\n",
    "# Check overlap between request type and description filters\n",
    "overlap = (missed_pickup_mask & description_missed_mask).sum()\n",
    "print(f\"Overlap between request type and description filters: {overlap}\")\n",
    "\n",
    "# Check records that have 'missed' in description but not in request type\n",
    "desc_only = description_missed_mask & ~missed_pickup_mask\n",
    "print(f\"Records with 'missed' in description but not 'Missed Pickup' in request type: {desc_only.sum()}\")\n",
    "\n",
    "if desc_only.sum() > 0:\n",
    "    print(\"\\nSample of description-only missed records:\")\n",
    "    print(df[desc_only][['Request', 'Description']].head())"
   ]
  },
  {
   "cell_type": "code",
   "execution_count": 95,
   "id": "f0652050",
   "metadata": {
    "scrolled": true
   },
   "outputs": [
    {
     "name": "stdout",
     "output_type": "stream",
     "text": [
      "Available columns after cleaning:\n",
      "['Request_Number', 'Date_Opened', 'Request', 'Description', 'Incident_Address', 'Zip_Code', 'Trash_Hauler', 'Trash_Route', 'Council_District', 'State_Plan_X', 'State_Plan_Y']\n",
      "Successfully converted column: Date_Opened\n",
      "\n",
      "'missed_pickups_df' created.\n",
      "Shape of the new DataFrame: (15028, 11)\n"
     ]
    },
    {
     "data": {
      "application/vnd.microsoft.datawrangler.viewer.v0+json": {
       "columns": [
        {
         "name": "index",
         "rawType": "int64",
         "type": "integer"
        },
        {
         "name": "Request_Number",
         "rawType": "int64",
         "type": "integer"
        },
        {
         "name": "Date_Opened",
         "rawType": "datetime64[ns]",
         "type": "datetime"
        },
        {
         "name": "Request",
         "rawType": "object",
         "type": "string"
        },
        {
         "name": "Description",
         "rawType": "object",
         "type": "string"
        },
        {
         "name": "Incident_Address",
         "rawType": "object",
         "type": "string"
        },
        {
         "name": "Zip_Code",
         "rawType": "float64",
         "type": "float"
        },
        {
         "name": "Trash_Hauler",
         "rawType": "object",
         "type": "string"
        },
        {
         "name": "Trash_Route",
         "rawType": "object",
         "type": "string"
        },
        {
         "name": "Council_District",
         "rawType": "float64",
         "type": "float"
        },
        {
         "name": "State_Plan_X",
         "rawType": "float64",
         "type": "float"
        },
        {
         "name": "State_Plan_Y",
         "rawType": "float64",
         "type": "float"
        }
       ],
       "ref": "a997424e-e0da-4367-8e8d-58b7e271cc5b",
       "rows": [
        [
         "1",
         "25274",
         "2017-11-01 00:00:00",
         "Trash - Curbside/Alley Missed Pickup",
         "Curb/Trash miss Tuesday.",
         "4028 Clarksville Pike",
         "37218.0",
         "RED RIVER",
         "4202",
         "1.0",
         "1721259.36568104",
         "685444.799565154"
        ],
        [
         "2",
         "25276",
         "2017-11-01 00:00:00",
         "Trash - Curbside/Alley Missed Pickup",
         "Curb/trash miss Tuesday.",
         "6528 Thunderbird Dr",
         "37209.0",
         "RED RIVER",
         "4205",
         "20.0",
         "1707026.75348931",
         "659887.471571312"
        ],
        [
         "3",
         "25307",
         "2017-11-01 00:00:00",
         "Trash - Curbside/Alley Missed Pickup",
         "missed",
         "2603 old matthews rd",
         "37207.0",
         "WASTE IND",
         "2206",
         "2.0",
         "1735691.77097349",
         "685027.245922773"
        ],
        [
         "4",
         "25312",
         "2017-11-01 00:00:00",
         "Trash - Curbside/Alley Missed Pickup",
         "Missed the even side of the road.",
         "604 croley dr",
         "37209.0",
         "RED RIVER",
         "4203",
         "20.0",
         "1710185.77229504",
         "664205.101065545"
        ],
        [
         "8",
         "25330",
         "2017-11-01 00:00:00",
         "Trash - Curbside/Alley Missed Pickup",
         "Missed.",
         "4484 Lavergne Couchville Pike",
         "37013.0",
         "RED RIVER",
         "4210",
         "33.0",
         "1794533.51380932",
         "618749.342732322"
        ]
       ],
       "shape": {
        "columns": 11,
        "rows": 5
       }
      },
      "text/html": [
       "<div>\n",
       "<style scoped>\n",
       "    .dataframe tbody tr th:only-of-type {\n",
       "        vertical-align: middle;\n",
       "    }\n",
       "\n",
       "    .dataframe tbody tr th {\n",
       "        vertical-align: top;\n",
       "    }\n",
       "\n",
       "    .dataframe thead th {\n",
       "        text-align: right;\n",
       "    }\n",
       "</style>\n",
       "<table border=\"1\" class=\"dataframe\">\n",
       "  <thead>\n",
       "    <tr style=\"text-align: right;\">\n",
       "      <th></th>\n",
       "      <th>Request_Number</th>\n",
       "      <th>Date_Opened</th>\n",
       "      <th>Request</th>\n",
       "      <th>Description</th>\n",
       "      <th>Incident_Address</th>\n",
       "      <th>Zip_Code</th>\n",
       "      <th>Trash_Hauler</th>\n",
       "      <th>Trash_Route</th>\n",
       "      <th>Council_District</th>\n",
       "      <th>State_Plan_X</th>\n",
       "      <th>State_Plan_Y</th>\n",
       "    </tr>\n",
       "  </thead>\n",
       "  <tbody>\n",
       "    <tr>\n",
       "      <th>1</th>\n",
       "      <td>25274</td>\n",
       "      <td>2017-11-01</td>\n",
       "      <td>Trash - Curbside/Alley Missed Pickup</td>\n",
       "      <td>Curb/Trash miss Tuesday.</td>\n",
       "      <td>4028 Clarksville Pike</td>\n",
       "      <td>37218.0</td>\n",
       "      <td>RED RIVER</td>\n",
       "      <td>4202</td>\n",
       "      <td>1.0</td>\n",
       "      <td>1.721259e+06</td>\n",
       "      <td>685444.799565</td>\n",
       "    </tr>\n",
       "    <tr>\n",
       "      <th>2</th>\n",
       "      <td>25276</td>\n",
       "      <td>2017-11-01</td>\n",
       "      <td>Trash - Curbside/Alley Missed Pickup</td>\n",
       "      <td>Curb/trash miss Tuesday.</td>\n",
       "      <td>6528 Thunderbird Dr</td>\n",
       "      <td>37209.0</td>\n",
       "      <td>RED RIVER</td>\n",
       "      <td>4205</td>\n",
       "      <td>20.0</td>\n",
       "      <td>1.707027e+06</td>\n",
       "      <td>659887.471571</td>\n",
       "    </tr>\n",
       "    <tr>\n",
       "      <th>3</th>\n",
       "      <td>25307</td>\n",
       "      <td>2017-11-01</td>\n",
       "      <td>Trash - Curbside/Alley Missed Pickup</td>\n",
       "      <td>missed</td>\n",
       "      <td>2603 old matthews rd</td>\n",
       "      <td>37207.0</td>\n",
       "      <td>WASTE IND</td>\n",
       "      <td>2206</td>\n",
       "      <td>2.0</td>\n",
       "      <td>1.735692e+06</td>\n",
       "      <td>685027.245923</td>\n",
       "    </tr>\n",
       "    <tr>\n",
       "      <th>4</th>\n",
       "      <td>25312</td>\n",
       "      <td>2017-11-01</td>\n",
       "      <td>Trash - Curbside/Alley Missed Pickup</td>\n",
       "      <td>Missed the even side of the road.</td>\n",
       "      <td>604 croley dr</td>\n",
       "      <td>37209.0</td>\n",
       "      <td>RED RIVER</td>\n",
       "      <td>4203</td>\n",
       "      <td>20.0</td>\n",
       "      <td>1.710186e+06</td>\n",
       "      <td>664205.101066</td>\n",
       "    </tr>\n",
       "    <tr>\n",
       "      <th>8</th>\n",
       "      <td>25330</td>\n",
       "      <td>2017-11-01</td>\n",
       "      <td>Trash - Curbside/Alley Missed Pickup</td>\n",
       "      <td>Missed.</td>\n",
       "      <td>4484 Lavergne Couchville Pike</td>\n",
       "      <td>37013.0</td>\n",
       "      <td>RED RIVER</td>\n",
       "      <td>4210</td>\n",
       "      <td>33.0</td>\n",
       "      <td>1.794534e+06</td>\n",
       "      <td>618749.342732</td>\n",
       "    </tr>\n",
       "  </tbody>\n",
       "</table>\n",
       "</div>"
      ],
      "text/plain": [
       "   Request_Number Date_Opened                               Request  \\\n",
       "1           25274  2017-11-01  Trash - Curbside/Alley Missed Pickup   \n",
       "2           25276  2017-11-01  Trash - Curbside/Alley Missed Pickup   \n",
       "3           25307  2017-11-01  Trash - Curbside/Alley Missed Pickup   \n",
       "4           25312  2017-11-01  Trash - Curbside/Alley Missed Pickup   \n",
       "8           25330  2017-11-01  Trash - Curbside/Alley Missed Pickup   \n",
       "\n",
       "                         Description               Incident_Address  Zip_Code  \\\n",
       "1           Curb/Trash miss Tuesday.          4028 Clarksville Pike   37218.0   \n",
       "2           Curb/trash miss Tuesday.            6528 Thunderbird Dr   37209.0   \n",
       "3                             missed           2603 old matthews rd   37207.0   \n",
       "4  Missed the even side of the road.                  604 croley dr   37209.0   \n",
       "8                            Missed.  4484 Lavergne Couchville Pike   37013.0   \n",
       "\n",
       "  Trash_Hauler Trash_Route  Council_District  State_Plan_X   State_Plan_Y  \n",
       "1    RED RIVER        4202               1.0  1.721259e+06  685444.799565  \n",
       "2    RED RIVER        4205              20.0  1.707027e+06  659887.471571  \n",
       "3    WASTE IND        2206               2.0  1.735692e+06  685027.245923  \n",
       "4    RED RIVER        4203              20.0  1.710186e+06  664205.101066  \n",
       "8    RED RIVER        4210              33.0  1.794534e+06  618749.342732  "
      ]
     },
     "execution_count": 95,
     "metadata": {},
     "output_type": "execute_result"
    }
   ],
   "source": [
    "# Check actual column names after cleaning\n",
    "print(\"Available columns after cleaning:\")\n",
    "print(df.columns.tolist())\n",
    "\n",
    "# Find the correct date column names\n",
    "date_opened_col = next((col for col in df.columns if 'opened' in col.lower()), None)\n",
    "date_closed_col = next((col for col in df.columns if 'closed' in col.lower()), None)\n",
    "\n",
    "# Convert date columns to datetime objects if they exist\n",
    "if date_opened_col:\n",
    "    df[date_opened_col] = pd.to_datetime(df[date_opened_col])\n",
    "    print(f\"Successfully converted column: {date_opened_col}\")\n",
    "else:\n",
    "    print(\"Warning: Could not find an 'opened' date column.\")\n",
    "\n",
    "# Apply the filter to create a new DataFrame with only missed pickup records\n",
    "missed_pickups_df = df[missed_pickup_mask].copy()\n",
    "\n",
    "print(\"\\n'missed_pickups_df' created.\")\n",
    "print(f\"Shape of the new DataFrame: {missed_pickups_df.shape}\")\n",
    "missed_pickups_df.head()"
   ]
  },
  {
   "cell_type": "code",
   "execution_count": 96,
   "id": "93c20375",
   "metadata": {},
   "outputs": [
    {
     "name": "stdout",
     "output_type": "stream",
     "text": [
      "Cleaned missed pickup data saved to: missed_pickups_cleaned.csv\n",
      "Records saved: 15,028\n",
      "Columns saved: ['Request_Number', 'Date_Opened', 'Request', 'Description', 'Incident_Address', 'Zip_Code', 'Trash_Hauler', 'Trash_Route', 'Council_District', 'State_Plan_X', 'State_Plan_Y']\n"
     ]
    }
   ],
   "source": [
    "# Save the cleaned missed pickups data to CSV for further analysis\n",
    "output_filename = 'missed_pickups_cleaned.csv'\n",
    "missed_pickups_df.to_csv(output_filename, index=False)\n",
    "\n",
    "print(f\"Cleaned missed pickup data saved to: {output_filename}\")\n",
    "print(f\"Records saved: {len(missed_pickups_df):,}\")\n",
    "print(f\"Columns saved: {list(missed_pickups_df.columns)}\")"
   ]
  },
  {
   "cell_type": "markdown",
   "id": "d371adc8",
   "metadata": {},
   "source": [
    "## Summary\n",
    "\n",
    "This notebook completed the initial data exploration and cleaning steps:\n",
    "\n",
    "1. **Data Loading**: Successfully loaded the trash hauler report CSV file\n",
    "2. **Data Structure**: Examined the dataset structure, data types, and basic statistics\n",
    "3. **Data Quality**: Identified missing values and data quality issues\n",
    "4. **Data Filtering**: Filtered for missed pickup records using request type and description\n",
    "5. **Data Cleaning**: Standardized column names and converted date columns\n",
    "6. **Data Preparation**: Created a clean dataset ready for further analysis\n",
    "\n",
    "The cleaned data is now ready for advanced analysis including:\n",
    "- Chronic problem identification\n",
    "- Liquidated damages calculation\n",
    "- Geographic analysis\n",
    "- Performance metrics by hauler and zip code"
   ]
  },
  {
   "cell_type": "code",
   "execution_count": 3,
   "id": "f8aeb0ab",
   "metadata": {},
   "outputs": [
    {
     "ename": "NameError",
     "evalue": "name 'df' is not defined",
     "output_type": "error",
     "traceback": [
      "\u001b[31m---------------------------------------------------------------------------\u001b[39m",
      "\u001b[31mNameError\u001b[39m                                 Traceback (most recent call last)",
      "\u001b[36mCell\u001b[39m\u001b[36m \u001b[39m\u001b[32mIn[3]\u001b[39m\u001b[32m, line 2\u001b[39m\n\u001b[32m      1\u001b[39m \u001b[38;5;66;03m# Prepare missed_pickups_df and normalize date columns for geospatial analysis\u001b[39;00m\n\u001b[32m----> \u001b[39m\u001b[32m2\u001b[39m \u001b[38;5;28;01mif\u001b[39;00m \u001b[33m'\u001b[39m\u001b[33mRequest\u001b[39m\u001b[33m'\u001b[39m \u001b[38;5;129;01min\u001b[39;00m \u001b[43mdf\u001b[49m.columns:\n\u001b[32m      3\u001b[39m     missed_pickup_mask = df[\u001b[33m'\u001b[39m\u001b[33mRequest\u001b[39m\u001b[33m'\u001b[39m].str.contains(\u001b[33m'\u001b[39m\u001b[33mMissed Pickup\u001b[39m\u001b[33m'\u001b[39m, case=\u001b[38;5;28;01mFalse\u001b[39;00m, na=\u001b[38;5;28;01mFalse\u001b[39;00m)\n\u001b[32m      4\u001b[39m     missed_pickups_df = df[missed_pickup_mask].copy()\n",
      "\u001b[31mNameError\u001b[39m: name 'df' is not defined"
     ]
    }
   ],
   "source": [
    "# Prepare missed_pickups_df and normalize date columns for geospatial analysis\n",
    "if 'Request' in df.columns:\n",
    "    missed_pickup_mask = df['Request'].str.contains('Missed Pickup', case=False, na=False)\n",
    "    missed_pickups_df = df[missed_pickup_mask].copy()\n",
    "    # Normalize date columns if present\n",
    "    for col in missed_pickups_df.columns:\n",
    "        if 'date' in col.lower() or 'opened' in col.lower() or 'closed' in col.lower():\n",
    "            try:\n",
    "                missed_pickups_df[col] = pd.to_datetime(missed_pickups_df[col])\n",
    "            except Exception:\n",
    "                pass\n",
    "    print('missed_pickups_df created and date columns normalized.')\n",
    "else:\n",
    "    print('Request column not found in df.')"
   ]
  },
  {
   "cell_type": "code",
   "execution_count": null,
   "id": "5fb7fe60",
   "metadata": {},
   "outputs": [],
   "source": []
  },
  {
   "cell_type": "code",
   "execution_count": 2,
   "id": "7a905eef",
   "metadata": {},
   "outputs": [
    {
     "ename": "NameError",
     "evalue": "name 'missed_pickups_df' is not defined",
     "output_type": "error",
     "traceback": [
      "\u001b[31m---------------------------------------------------------------------------\u001b[39m",
      "\u001b[31mNameError\u001b[39m                                 Traceback (most recent call last)",
      "\u001b[36mCell\u001b[39m\u001b[36m \u001b[39m\u001b[32mIn[2]\u001b[39m\u001b[32m, line 3\u001b[39m\n\u001b[32m      1\u001b[39m \u001b[38;5;66;03m# Basic Geospatial and Heat Map Visualizations\u001b[39;00m\n\u001b[32m      2\u001b[39m \u001b[38;5;66;03m# Make sure latitude and longitude columns exist in missed_pickups_df\u001b[39;00m\n\u001b[32m----> \u001b[39m\u001b[32m3\u001b[39m \u001b[38;5;28;01mif\u001b[39;00m \u001b[33m'\u001b[39m\u001b[33mlatitude\u001b[39m\u001b[33m'\u001b[39m \u001b[38;5;129;01min\u001b[39;00m \u001b[43mmissed_pickups_df\u001b[49m.columns \u001b[38;5;129;01mand\u001b[39;00m \u001b[33m'\u001b[39m\u001b[33mlongitude\u001b[39m\u001b[33m'\u001b[39m \u001b[38;5;129;01min\u001b[39;00m missed_pickups_df.columns:\n\u001b[32m      4\u001b[39m     \u001b[38;5;66;03m# Center map on Nashville\u001b[39;00m\n\u001b[32m      5\u001b[39m     nashville_coords = [\u001b[32m36.1627\u001b[39m, -\u001b[32m86.7816\u001b[39m]\n\u001b[32m      6\u001b[39m     nashville_map = folium.Map(location=nashville_coords, zoom_start=\u001b[32m12\u001b[39m)\n",
      "\u001b[31mNameError\u001b[39m: name 'missed_pickups_df' is not defined"
     ]
    }
   ],
   "source": [
    "# Basic Geospatial and Heat Map Visualizations\n",
    "# Make sure latitude and longitude columns exist in missed_pickups_df\n",
    "if 'latitude' in missed_pickups_df.columns and 'longitude' in missed_pickups_df.columns:\n",
    "    # Center map on Nashville\n",
    "    nashville_coords = [36.1627, -86.7816]\n",
    "    nashville_map = folium.Map(location=nashville_coords, zoom_start=12)\n",
    "    # Prepare heatmap data\n",
    "    heat_data = missed_pickups_df[['latitude', 'longitude']].dropna().values.tolist()\n",
    "    HeatMap(heat_data, radius=8, blur=15).add_to(nashville_map)\n",
    "    nashville_map.save('missed_pickups_heatmap.html')\n",
    "    print(\"Heatmap saved as 'missed_pickups_heatmap.html'.\")\n",
    "else:\n",
    "    print(\"Latitude and Longitude columns are missing in missed_pickups_df.\")\n",
    "\n",
    "# Optional: Plot points using geopandas if available\n",
    "try:\n",
    "    if 'latitude' in missed_pickups_df.columns and 'longitude' in missed_pickups_df.columns:\n",
    "        gdf = gpd.GeoDataFrame(\n",
    "            missed_pickups_df.dropna(subset=['latitude', 'longitude']),\n",
    "            geometry=gpd.points_from_xy(missed_pickups_df['longitude'], missed_pickups_df['latitude'])\n",
    "        )\n",
    "        ax = gdf.plot(figsize=(10, 10), alpha=0.5, color='red')\n",
    "        ctx.add_basemap(ax, crs=gdf.crs)\n",
    "        plt.title('Missed Pickups Geospatial Plot')\n",
    "        plt.show()\n",
    "except Exception as e:\n",
    "    print(f\"Geopandas plot error: {e}\")"
   ]
  }
 ],
 "metadata": {
  "kernelspec": {
   "display_name": "anaconda-ml-ai",
   "language": "python",
   "name": "conda-env-anaconda-ml-ai"
  },
  "language_info": {
   "codemirror_mode": {
    "name": "ipython",
    "version": 3
   },
   "file_extension": ".py",
   "mimetype": "text/x-python",
   "name": "python",
   "nbconvert_exporter": "python",
   "pygments_lexer": "ipython3",
   "version": "3.11.13"
  }
 },
 "nbformat": 4,
 "nbformat_minor": 5
}
